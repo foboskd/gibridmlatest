{
 "cells": [
  {
   "cell_type": "markdown",
   "id": "57a0a0d2-005a-4b80-ac23-380a3199fbd1",
   "metadata": {},
   "source": [
    "# Задание\n",
    "## Вопросы по заданию\n",
    "### Преподаватель: Наталья Баданина, Иван Анисковец, Юлия Пономарева, Ярослав Сапронов, Егор Шишковец, Павел Мехнин\n",
    "### Что нужно делать?\n",
    "- Датасет ml-latest.\n",
    "- Вспомнить подходы, которые мы разбирали.\n",
    "- Выбрать понравившийся подход к гибридным системам.\n",
    "- Написать свою."
   ]
  },
  {
   "cell_type": "markdown",
   "id": "8bab2390-14ae-456e-b5a4-7281d2dcb97a",
   "metadata": {},
   "source": [
    "#### 1. Загрузка и подготовка данных"
   ]
  },
  {
   "cell_type": "code",
   "execution_count": 1,
   "id": "28722ad8-8e76-4f82-8f61-ead520bb49db",
   "metadata": {},
   "outputs": [],
   "source": [
    "import pandas as pd\n",
    "from surprise import Dataset, Reader\n",
    "from surprise.model_selection import train_test_split\n",
    "from surprise import SVD\n",
    "from sklearn.feature_extraction.text import TfidfVectorizer\n",
    "from sklearn.metrics.pairwise import cosine_similarity\n"
   ]
  },
  {
   "cell_type": "code",
   "execution_count": 2,
   "id": "174ba20f-ae0e-476b-a58b-d97f2113581d",
   "metadata": {},
   "outputs": [],
   "source": [
    "# Загрузка данных\n",
    "ratings = pd.read_csv('ratings.csv')  # Файл из датасета ml-latest\n",
    "movies = pd.read_csv('movies.csv')    # Файл из датасета ml-latest"
   ]
  },
  {
   "cell_type": "markdown",
   "id": "df5cb49c-84c3-4d71-86ed-bd924c0e8746",
   "metadata": {},
   "source": [
    "#### 2. Коллаборативная фильтрация с использованием SVD"
   ]
  },
  {
   "cell_type": "code",
   "execution_count": 3,
   "id": "eb7ced46-71ad-4768-86c8-d9e5475b106c",
   "metadata": {},
   "outputs": [
    {
     "data": {
      "text/plain": [
       "<surprise.prediction_algorithms.matrix_factorization.SVD at 0xffffb06cfdf0>"
      ]
     },
     "execution_count": 3,
     "metadata": {},
     "output_type": "execute_result"
    }
   ],
   "source": [
    "# Подготовка данных для Surprise\n",
    "reader = Reader(rating_scale=(0.5, 5.0))\n",
    "data = Dataset.load_from_df(ratings[['userId', 'movieId', 'rating']], reader)\n",
    "trainset, testset = train_test_split(data, test_size=0.2)\n",
    "\n",
    "# Обучение модели SVD\n",
    "svd = SVD()\n",
    "svd.fit(trainset)"
   ]
  },
  {
   "cell_type": "markdown",
   "id": "819f245b-2462-469c-96bf-9b90ab1d6dd4",
   "metadata": {},
   "source": [
    "#### 3. Контентная фильтрация с использованием TF-IDF"
   ]
  },
  {
   "cell_type": "code",
   "execution_count": 4,
   "id": "4aa0158a-9374-488f-b6ee-5cfd5877bd32",
   "metadata": {},
   "outputs": [],
   "source": [
    "# Обработка жанров\n",
    "movies['genres'] = movies['genres'].replace('(no genres listed)', '')\n",
    "tfidf = TfidfVectorizer(token_pattern='[a-zA-Z\\-]+')\n",
    "tfidf_matrix = tfidf.fit_transform(movies['genres'])\n",
    "\n",
    "# Создание словаря соответствия movieId и индекса в матрице TF-IDF\n",
    "movie_indices = pd.Series(movies.index, index=movies['movieId'])"
   ]
  },
  {
   "cell_type": "markdown",
   "id": "3251a7c1-8947-4f95-95cb-5102366f4115",
   "metadata": {},
   "source": [
    "#### 4. Гибридная рекомендация"
   ]
  },
  {
   "cell_type": "code",
   "execution_count": 5,
   "id": "48fc3d10-e95f-4115-8f3d-677a89712b16",
   "metadata": {},
   "outputs": [],
   "source": [
    "def hybrid_recommendation(user_id, movie_id, top_n=10, alpha=0.5):\n",
    "    # Коллаборативная часть\n",
    "    svd_score = svd.predict(user_id, movie_id).est\n",
    "\n",
    "    # Контентная часть\n",
    "    idx = movie_indices[movie_id]\n",
    "    cosine_sim = cosine_similarity(tfidf_matrix[idx], tfidf_matrix).flatten()\n",
    "    sim_scores = list(enumerate(cosine_sim))\n",
    "    sim_scores = sorted(sim_scores, key=lambda x: x[1], reverse=True)\n",
    "    sim_scores = sim_scores[1:top_n+1]\n",
    "    movie_indices_similar = [i[0] for i in sim_scores]\n",
    "    content_score = movies.iloc[movie_indices_similar]['movieId'].tolist()\n",
    "\n",
    "    # Комбинированный результат\n",
    "    hybrid_scores = {}\n",
    "    for mid in content_score:\n",
    "        try:\n",
    "            pred = svd.predict(user_id, mid).est\n",
    "            hybrid_scores[mid] = alpha * pred + (1 - alpha) * cosine_similarity(tfidf_matrix[movie_indices[mid]], tfidf_matrix[idx])[0][0]\n",
    "        except:\n",
    "            continue\n",
    "\n",
    "    # Сортировка и вывод\n",
    "    hybrid_scores = sorted(hybrid_scores.items(), key=lambda x: x[1], reverse=True)\n",
    "    recommended_movie_ids = [i[0] for i in hybrid_scores]\n",
    "    return movies[movies['movieId'].isin(recommended_movie_ids)].head(top_n)"
   ]
  },
  {
   "cell_type": "code",
   "execution_count": 6,
   "id": "16cdd83f-2e1a-4cab-ad48-7fa73702f74d",
   "metadata": {},
   "outputs": [
    {
     "name": "stdout",
     "output_type": "stream",
     "text": [
      "      movieId                                              title  \\\n",
      "1706     2294                                        Antz (1998)   \n",
      "2355     3114                                 Toy Story 2 (1999)   \n",
      "2809     3754     Adventures of Rocky and Bullwinkle, The (2000)   \n",
      "3000     4016                   Emperor's New Groove, The (2000)   \n",
      "3568     4886                              Monsters, Inc. (2001)   \n",
      "6194    45074                                   Wild, The (2006)   \n",
      "6486    53121                             Shrek the Third (2007)   \n",
      "6948    65577                     Tale of Despereaux, The (2008)   \n",
      "7760    91355  Asterix and the Vikings (Astérix et les Viking...   \n",
      "8219   103755                                       Turbo (2013)   \n",
      "\n",
      "                                           genres  \n",
      "1706  Adventure|Animation|Children|Comedy|Fantasy  \n",
      "2355  Adventure|Animation|Children|Comedy|Fantasy  \n",
      "2809  Adventure|Animation|Children|Comedy|Fantasy  \n",
      "3000  Adventure|Animation|Children|Comedy|Fantasy  \n",
      "3568  Adventure|Animation|Children|Comedy|Fantasy  \n",
      "6194  Adventure|Animation|Children|Comedy|Fantasy  \n",
      "6486  Adventure|Animation|Children|Comedy|Fantasy  \n",
      "6948  Adventure|Animation|Children|Comedy|Fantasy  \n",
      "7760  Adventure|Animation|Children|Comedy|Fantasy  \n",
      "8219  Adventure|Animation|Children|Comedy|Fantasy  \n"
     ]
    }
   ],
   "source": [
    "# Пример использования\n",
    "user_id = 1\n",
    "movie_id = 1  # ID фильма, который пользователь оценил\n",
    "recommendations = hybrid_recommendation(user_id, movie_id)\n",
    "print(recommendations)"
   ]
  },
  {
   "cell_type": "code",
   "execution_count": null,
   "id": "eedcf55e-40d8-498f-8410-f6c5b09ff4de",
   "metadata": {},
   "outputs": [],
   "source": []
  },
  {
   "cell_type": "code",
   "execution_count": null,
   "id": "8b213fb5-a008-45c3-a7c0-ff0b0cd61a4c",
   "metadata": {},
   "outputs": [],
   "source": []
  }
 ],
 "metadata": {
  "kernelspec": {
   "display_name": "Python 3 (ipykernel)",
   "language": "python",
   "name": "python3"
  },
  "language_info": {
   "codemirror_mode": {
    "name": "ipython",
    "version": 3
   },
   "file_extension": ".py",
   "mimetype": "text/x-python",
   "name": "python",
   "nbconvert_exporter": "python",
   "pygments_lexer": "ipython3",
   "version": "3.10.17"
  }
 },
 "nbformat": 4,
 "nbformat_minor": 5
}
